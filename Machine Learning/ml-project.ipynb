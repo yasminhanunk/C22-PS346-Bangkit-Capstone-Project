{
 "cells": [
  {
   "cell_type": "code",
   "execution_count": 1,
   "id": "89b8447e",
   "metadata": {},
   "outputs": [],
   "source": [
    "import pandas as pd\n",
    "import numpy as np\n",
    "import tensorflow as tf"
   ]
  },
  {
   "cell_type": "code",
   "execution_count": 2,
   "id": "e61e8bd9",
   "metadata": {},
   "outputs": [
    {
     "data": {
      "text/html": [
       "<div>\n",
       "<style scoped>\n",
       "    .dataframe tbody tr th:only-of-type {\n",
       "        vertical-align: middle;\n",
       "    }\n",
       "\n",
       "    .dataframe tbody tr th {\n",
       "        vertical-align: top;\n",
       "    }\n",
       "\n",
       "    .dataframe thead th {\n",
       "        text-align: right;\n",
       "    }\n",
       "</style>\n",
       "<table border=\"1\" class=\"dataframe\">\n",
       "  <thead>\n",
       "    <tr style=\"text-align: right;\">\n",
       "      <th></th>\n",
       "      <th>doctor</th>\n",
       "      <th>Gender</th>\n",
       "      <th>Age</th>\n",
       "      <th>st</th>\n",
       "    </tr>\n",
       "  </thead>\n",
       "  <tbody>\n",
       "    <tr>\n",
       "      <th>0</th>\n",
       "      <td>ent</td>\n",
       "      <td>m</td>\n",
       "      <td>50</td>\n",
       "      <td>29</td>\n",
       "    </tr>\n",
       "    <tr>\n",
       "      <th>1</th>\n",
       "      <td>paediatrics</td>\n",
       "      <td>m</td>\n",
       "      <td>11</td>\n",
       "      <td>10</td>\n",
       "    </tr>\n",
       "    <tr>\n",
       "      <th>2</th>\n",
       "      <td>paediatrics</td>\n",
       "      <td>f</td>\n",
       "      <td>20</td>\n",
       "      <td>14</td>\n",
       "    </tr>\n",
       "    <tr>\n",
       "      <th>3</th>\n",
       "      <td>ophthalmology</td>\n",
       "      <td>f</td>\n",
       "      <td>50</td>\n",
       "      <td>11</td>\n",
       "    </tr>\n",
       "    <tr>\n",
       "      <th>4</th>\n",
       "      <td>o&amp;g</td>\n",
       "      <td>f</td>\n",
       "      <td>34</td>\n",
       "      <td>27</td>\n",
       "    </tr>\n",
       "  </tbody>\n",
       "</table>\n",
       "</div>"
      ],
      "text/plain": [
       "          doctor Gender  Age  st\n",
       "0            ent      m   50  29\n",
       "1    paediatrics      m   11  10\n",
       "2    paediatrics      f   20  14\n",
       "3  ophthalmology      f   50  11\n",
       "4            o&g      f   34  27"
      ]
     },
     "execution_count": 2,
     "metadata": {},
     "output_type": "execute_result"
    }
   ],
   "source": [
    "data = pd.read_csv(\"./pqt.csv\")\n",
    "data.head()"
   ]
  },
  {
   "cell_type": "code",
   "execution_count": 3,
   "id": "c3750924",
   "metadata": {},
   "outputs": [
    {
     "data": {
      "text/plain": [
       "369"
      ]
     },
     "execution_count": 3,
     "metadata": {},
     "output_type": "execute_result"
    }
   ],
   "source": [
    "len(data)"
   ]
  },
  {
   "cell_type": "code",
   "execution_count": 4,
   "id": "fe39ad52",
   "metadata": {},
   "outputs": [
    {
     "data": {
      "text/plain": [
       "array(['ent', 'paediatrics', 'ophthalmology', 'o&g',\n",
       "       'general practitioner', 'psychiatry', 'surgical',\n",
       "       'multiple diagnosis & others', 'oncology'], dtype=object)"
      ]
     },
     "execution_count": 4,
     "metadata": {},
     "output_type": "execute_result"
    }
   ],
   "source": [
    "data['doctor'].unique()"
   ]
  },
  {
   "cell_type": "code",
   "execution_count": 5,
   "id": "2dba3a1c",
   "metadata": {},
   "outputs": [
    {
     "name": "stdout",
     "output_type": "stream",
     "text": [
      "min age:  2\n",
      "max age:  62\n"
     ]
    }
   ],
   "source": [
    "print(\"min age: \", min(data['Age']))\n",
    "print(\"max age: \", max(data['Age']))"
   ]
  },
  {
   "cell_type": "code",
   "execution_count": 6,
   "id": "462669e5",
   "metadata": {},
   "outputs": [],
   "source": [
    "train, test = np.split(data, [int(len(data) * 0.8)])"
   ]
  },
  {
   "cell_type": "code",
   "execution_count": 7,
   "id": "3ec888ad",
   "metadata": {},
   "outputs": [
    {
     "name": "stdout",
     "output_type": "stream",
     "text": [
      "training data:  295\n",
      "test data:  74\n"
     ]
    }
   ],
   "source": [
    "print(\"training data: \", len(train))\n",
    "print(\"test data: \", len(test))"
   ]
  },
  {
   "cell_type": "code",
   "execution_count": 8,
   "id": "cfa89b3a",
   "metadata": {},
   "outputs": [],
   "source": [
    "def df_to_dataset(dataframe, shuffle=True, batch_size=32):\n",
    "    df = dataframe.copy()\n",
    "    labels = df.pop('st')\n",
    "    df = {key: value[:,tf.newaxis] for key, value in dataframe.items()}\n",
    "    ds = tf.data.Dataset.from_tensor_slices((dict(df), labels))\n",
    "    if shuffle:\n",
    "        ds = ds.shuffle(buffer_size=len(dataframe))\n",
    "    ds = ds.batch(batch_size)\n",
    "    ds = ds.prefetch(batch_size)\n",
    "    return ds"
   ]
  },
  {
   "cell_type": "code",
   "execution_count": 9,
   "id": "6a4b0f35",
   "metadata": {},
   "outputs": [
    {
     "name": "stderr",
     "output_type": "stream",
     "text": [
      "C:\\Users\\ASUS\\AppData\\Local\\Temp/ipykernel_14996/3143059055.py:4: FutureWarning: Support for multi-dimensional indexing (e.g. `obj[:, None]`) is deprecated and will be removed in a future version.  Convert to a numpy array before indexing instead.\n",
      "  df = {key: value[:,tf.newaxis] for key, value in dataframe.items()}\n"
     ]
    }
   ],
   "source": [
    "batch_size = 5\n",
    "train_ds = df_to_dataset(train, batch_size=batch_size)"
   ]
  },
  {
   "cell_type": "code",
   "execution_count": 10,
   "id": "143942ff",
   "metadata": {},
   "outputs": [
    {
     "name": "stdout",
     "output_type": "stream",
     "text": [
      "Features: ['doctor', 'Gender', 'Age', 'st']\n",
      "A batch of ages: tf.Tensor(\n",
      "[[34]\n",
      " [11]\n",
      " [34]\n",
      " [20]\n",
      " [34]], shape=(5, 1), dtype=int64)\n",
      "A batch of st: tf.Tensor([45 23 20 10 35], shape=(5,), dtype=int64)\n"
     ]
    }
   ],
   "source": [
    "[(train_features, label_batch)] = train_ds.take(1)\n",
    "print('Features:', list(train_features.keys()))\n",
    "print('A batch of ages:', train_features['Age'])\n",
    "print('A batch of st:', label_batch )"
   ]
  },
  {
   "cell_type": "code",
   "execution_count": null,
   "id": "cc6d312b",
   "metadata": {},
   "outputs": [],
   "source": []
  },
  {
   "cell_type": "code",
   "execution_count": 11,
   "id": "1e7003ff",
   "metadata": {},
   "outputs": [],
   "source": [
    "def normalization_layer(name, dataset):\n",
    "    # Create a Normalization layer for the feature.\n",
    "    normalizer = tf.keras.layers.Normalization(axis=None)\n",
    "    feature_ds = dataset.map(lambda x, y: x[name])\n",
    "    normalizer.adapt(feature_ds)\n",
    "    return normalizer"
   ]
  },
  {
   "cell_type": "code",
   "execution_count": 12,
   "id": "bc45ac90",
   "metadata": {},
   "outputs": [
    {
     "data": {
      "text/plain": [
       "<tf.Tensor: shape=(5, 1), dtype=float32, numpy=\n",
       "array([[ 1.0701298 ],\n",
       "       [-0.30134383],\n",
       "       [-0.48836297],\n",
       "       [-1.11176   ],\n",
       "       [ 0.4467327 ]], dtype=float32)>"
      ]
     },
     "execution_count": 12,
     "metadata": {},
     "output_type": "execute_result"
    }
   ],
   "source": [
    "st_col = train_features['st']\n",
    "layer = normalization_layer('st', train_ds)\n",
    "layer(st_col)"
   ]
  },
  {
   "cell_type": "code",
   "execution_count": 13,
   "id": "b35f148d",
   "metadata": {},
   "outputs": [],
   "source": [
    "def category_encoding_layer(name, dataset, dtype, max_tokens=None):\n",
    "    # make a layer, turn strings to integer indices\n",
    "    if dtype == 'string':\n",
    "        index = tf.keras.layers.StringLookup(max_tokens=max_tokens)\n",
    "    # else, make a layer, turn integer values to integer indices\n",
    "    else:\n",
    "        index = tf.keras.layers.IntegerLookup(max_tokens=max_tokens)\n",
    "\n",
    "    feature_ds = dataset.map(lambda x, y: x[name])\n",
    "    index.adapt(feature_ds)\n",
    "\n",
    "    # Encode the integer indices\n",
    "    encoder = tf.keras.layers.CategoryEncoding(num_tokens=index.vocabulary_size())\n",
    "\n",
    "    # Using multi-hot encoding to the indices with lambda function\n",
    "    return lambda feature: encoder(index(feature)) "
   ]
  },
  {
   "cell_type": "code",
   "execution_count": 14,
   "id": "ec7b1b39",
   "metadata": {},
   "outputs": [
    {
     "data": {
      "text/plain": [
       "<tf.Tensor: shape=(5, 10), dtype=float32, numpy=\n",
       "array([[0., 0., 1., 0., 0., 0., 0., 0., 0., 0.],\n",
       "       [0., 0., 0., 0., 0., 0., 0., 0., 0., 1.],\n",
       "       [0., 0., 0., 0., 0., 0., 0., 1., 0., 0.],\n",
       "       [0., 0., 0., 0., 1., 0., 0., 0., 0., 0.],\n",
       "       [0., 0., 0., 0., 0., 0., 0., 1., 0., 0.]], dtype=float32)>"
      ]
     },
     "execution_count": 14,
     "metadata": {},
     "output_type": "execute_result"
    }
   ],
   "source": [
    "test_doctor_col = train_features['doctor']\n",
    "test_doctor_layer = category_encoding_layer(name='doctor',\n",
    "                                            dataset=train_ds,\n",
    "                                            dtype='string')\n",
    "test_doctor_layer(test_doctor_col)"
   ]
  },
  {
   "cell_type": "code",
   "execution_count": 15,
   "id": "d3d253d2",
   "metadata": {},
   "outputs": [
    {
     "data": {
      "text/plain": [
       "<tf.Tensor: shape=(5, 5), dtype=float32, numpy=\n",
       "array([[0., 1., 0., 0., 0.],\n",
       "       [1., 0., 0., 0., 0.],\n",
       "       [0., 1., 0., 0., 0.],\n",
       "       [0., 0., 1., 0., 0.],\n",
       "       [0., 1., 0., 0., 0.]], dtype=float32)>"
      ]
     },
     "execution_count": 15,
     "metadata": {},
     "output_type": "execute_result"
    }
   ],
   "source": [
    "test_age_col = train_features['Age']\n",
    "test_age_layer = category_encoding_layer(name='Age',\n",
    "                                         dataset=train_ds,\n",
    "                                         dtype='int64',\n",
    "                                         max_tokens=5)\n",
    "test_age_layer(test_age_col)"
   ]
  },
  {
   "cell_type": "code",
   "execution_count": null,
   "id": "cc720a0f",
   "metadata": {},
   "outputs": [],
   "source": []
  },
  {
   "cell_type": "code",
   "execution_count": 16,
   "id": "d2e9164b",
   "metadata": {},
   "outputs": [
    {
     "name": "stderr",
     "output_type": "stream",
     "text": [
      "C:\\Users\\ASUS\\AppData\\Local\\Temp/ipykernel_14996/3143059055.py:4: FutureWarning: Support for multi-dimensional indexing (e.g. `obj[:, None]`) is deprecated and will be removed in a future version.  Convert to a numpy array before indexing instead.\n",
      "  df = {key: value[:,tf.newaxis] for key, value in dataframe.items()}\n"
     ]
    }
   ],
   "source": [
    "batch_size = 1\n",
    "train_ds = df_to_dataset(train, batch_size=batch_size)\n",
    "test_ds = df_to_dataset(test, shuffle=False, batch_size=batch_size)"
   ]
  },
  {
   "cell_type": "code",
   "execution_count": 17,
   "id": "ca59f76a",
   "metadata": {},
   "outputs": [],
   "source": [
    "all_inputs = []\n",
    "encoded_features = []"
   ]
  },
  {
   "cell_type": "code",
   "execution_count": 18,
   "id": "9281b55e",
   "metadata": {},
   "outputs": [],
   "source": [
    "age_col = tf.keras.Input(shape=(1,), name='Age', dtype='int64')\n",
    "\n",
    "encoding_layer = category_encoding_layer(name='Age',\n",
    "                                         dataset=train_ds,\n",
    "                                         dtype='int64',\n",
    "                                         max_tokens=5)\n",
    "encoded_age_col = encoding_layer(age_col)\n",
    "all_inputs.append(age_col)\n",
    "encoded_features.append(encoded_age_col)"
   ]
  },
  {
   "cell_type": "code",
   "execution_count": 19,
   "id": "3e949104",
   "metadata": {},
   "outputs": [],
   "source": [
    "categorical_cols = ['doctor', 'Gender']\n",
    "\n",
    "for col in categorical_cols:\n",
    "    categorical_col = tf.keras.Input(shape=(1,), name=col, dtype='string')\n",
    "    encoding_layer = category_encoding_layer(name=col,\n",
    "                                             dataset=train_ds,\n",
    "                                             dtype='string',\n",
    "                                             max_tokens=11)\n",
    "    encoded_categorical_col = encoding_layer(categorical_col)\n",
    "    all_inputs.append(categorical_col)\n",
    "    encoded_features.append(encoded_categorical_col)"
   ]
  },
  {
   "cell_type": "code",
   "execution_count": 20,
   "id": "47167433",
   "metadata": {},
   "outputs": [],
   "source": [
    "all_features = tf.keras.layers.concatenate(encoded_features)\n",
    "x = tf.keras.layers.Dense(64, activation='relu')(all_features)\n",
    "x = tf.keras.layers.Dense(32, activation='relu')(x)\n",
    "output = tf.keras.layers.Dense(1)(x)\n",
    "\n",
    "model = tf.keras.Model(all_inputs, output)\n",
    "\n",
    "model.compile(optimizer='adam',\n",
    "              loss='mae',\n",
    "              metrics=[\"mae\"])"
   ]
  },
  {
   "cell_type": "code",
   "execution_count": 21,
   "id": "b2faa8bc",
   "metadata": {},
   "outputs": [
    {
     "name": "stdout",
     "output_type": "stream",
     "text": [
      "Epoch 1/10\n"
     ]
    },
    {
     "name": "stderr",
     "output_type": "stream",
     "text": [
      "C:\\Users\\ASUS\\anaconda3\\lib\\site-packages\\keras\\engine\\functional.py:559: UserWarning: Input dict contained keys ['st'] which did not match any model input. They will be ignored by the model.\n",
      "  inputs = self._flatten_to_reference_inputs(inputs)\n"
     ]
    },
    {
     "name": "stdout",
     "output_type": "stream",
     "text": [
      "295/295 [==============================] - 1s 1ms/step - loss: 16.4863 - mae: 16.4863\n",
      "Epoch 2/10\n",
      "295/295 [==============================] - 0s 1ms/step - loss: 8.8638 - mae: 8.8638A: 0s - loss: 9.5672 - mae:\n",
      "Epoch 3/10\n",
      "295/295 [==============================] - 0s 1ms/step - loss: 5.8338 - mae: 5.8338\n",
      "Epoch 4/10\n",
      "295/295 [==============================] - 0s 1ms/step - loss: 4.6282 - mae: 4.6282\n",
      "Epoch 5/10\n",
      "295/295 [==============================] - 0s 1ms/step - loss: 4.2399 - mae: 4.2399\n",
      "Epoch 6/10\n",
      "295/295 [==============================] - 0s 1ms/step - loss: 4.3013 - mae: 4.3013\n",
      "Epoch 7/10\n",
      "295/295 [==============================] - 0s 1ms/step - loss: 4.1266 - mae: 4.1266\n",
      "Epoch 8/10\n",
      "295/295 [==============================] - 0s 1ms/step - loss: 4.1037 - mae: 4.1037\n",
      "Epoch 9/10\n",
      "295/295 [==============================] - 0s 1ms/step - loss: 3.9493 - mae: 3.9493\n",
      "Epoch 10/10\n",
      "295/295 [==============================] - 0s 1ms/step - loss: 3.9204 - mae: 3.9204\n"
     ]
    },
    {
     "data": {
      "text/plain": [
       "<keras.callbacks.History at 0x20dbd513220>"
      ]
     },
     "execution_count": 21,
     "metadata": {},
     "output_type": "execute_result"
    }
   ],
   "source": [
    "model.fit(train_ds, epochs=10)"
   ]
  },
  {
   "cell_type": "code",
   "execution_count": null,
   "id": "ec416238",
   "metadata": {},
   "outputs": [],
   "source": []
  },
  {
   "cell_type": "code",
   "execution_count": 22,
   "id": "79fa89eb",
   "metadata": {},
   "outputs": [
    {
     "name": "stdout",
     "output_type": "stream",
     "text": [
      "74/74 [==============================] - 0s 1ms/step - loss: 4.1067 - mae: 4.1067\n"
     ]
    },
    {
     "data": {
      "text/plain": [
       "[4.106741905212402, 4.106741905212402]"
      ]
     },
     "execution_count": 22,
     "metadata": {},
     "output_type": "execute_result"
    }
   ],
   "source": [
    "model.evaluate(test_ds)"
   ]
  },
  {
   "cell_type": "code",
   "execution_count": 23,
   "id": "9be91fcc",
   "metadata": {},
   "outputs": [],
   "source": [
    "sample = {\n",
    "    'doctor': 'paediatrics',\n",
    "    'Gender': 'm',\n",
    "    'Age': 11\n",
    "}"
   ]
  },
  {
   "cell_type": "code",
   "execution_count": 24,
   "id": "e1d275c4",
   "metadata": {},
   "outputs": [],
   "source": [
    "sample = {\n",
    "    'doctor': '0&g',\n",
    "    'Gender': 'f',\n",
    "    'Age': 34\n",
    "}"
   ]
  },
  {
   "cell_type": "code",
   "execution_count": 25,
   "id": "3a0be317",
   "metadata": {
    "scrolled": true
   },
   "outputs": [
    {
     "name": "stdout",
     "output_type": "stream",
     "text": [
      "[[25.793827]]\n"
     ]
    }
   ],
   "source": [
    "input_dict = {name: tf.convert_to_tensor([value]) for name, value in sample.items()}\n",
    "predictions = model.predict(input_dict)\n",
    "#prob = tf.nn.sigmoid(predictions[0])\n",
    "print(predictions)"
   ]
  },
  {
   "cell_type": "code",
   "execution_count": null,
   "id": "052c3bd9",
   "metadata": {},
   "outputs": [],
   "source": []
  }
 ],
 "metadata": {
  "kernelspec": {
   "display_name": "Python 3 (ipykernel)",
   "language": "python",
   "name": "python3"
  },
  "language_info": {
   "codemirror_mode": {
    "name": "ipython",
    "version": 3
   },
   "file_extension": ".py",
   "mimetype": "text/x-python",
   "name": "python",
   "nbconvert_exporter": "python",
   "pygments_lexer": "ipython3",
   "version": "3.8.12"
  }
 },
 "nbformat": 4,
 "nbformat_minor": 5
}
